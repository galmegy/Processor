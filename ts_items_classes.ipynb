{
 "cells": [
  {
   "cell_type": "code",
   "execution_count": 29,
   "id": "b4d8e655",
   "metadata": {},
   "outputs": [
    {
     "name": "stdout",
     "output_type": "stream",
     "text": [
      "()\n",
      "1\n",
      "()\n",
      "1\n",
      "()\n",
      "()\n",
      "()\n",
      "2\n"
     ]
    },
    {
     "data": {
      "text/plain": [
       "[<__main__.OutlierDetector at 0x113b5a0a0>,\n",
       " <__main__.OutlierDetector at 0x1139e2af0>]"
      ]
     },
     "execution_count": 29,
     "metadata": {},
     "output_type": "execute_result"
    }
   ],
   "source": [
    "from abc import ABC, abstractmethod\n",
    "from typing import List, Tuple, Union, Dict\n",
    "import torch\n",
    "\n",
    "\n",
    "class ItemBase(ABC):\n",
    "    @classmethod\n",
    "    def add_instance(cls, ins):\n",
    "        cls._items.append(ins)\n",
    "        print(len(cls._items))\n",
    "        \n",
    "    @abstractmethod\n",
    "    def run(self, *args):\n",
    "        pass\n",
    "    \n",
    "    \n",
    "class OutlierDetector(ItemBase):\n",
    "    _items = []\n",
    "    def __init__(self, *args):\n",
    "        print(args)\n",
    "        self.add_instance(self)\n",
    "        \n",
    "    def run(self, *args):\n",
    "        print(args)\n",
    "        \n",
    "\n",
    "class Forecastor(ItemBase):\n",
    "    _items = []\n",
    "    def __init__(self, *args):\n",
    "        super().__init__()\n",
    "        print(args)\n",
    "        self.add_instance(self)\n",
    "        \n",
    "    def run(self, *args):\n",
    "        print(args)\n",
    "\n",
    "        \n",
    "class ProcessItems(object):\n",
    "    def __init__(self, items: List = [])->None:\n",
    "        self.items = items\n",
    "        \n",
    "    def process(self)->List:\n",
    "        res = []\n",
    "        for item in self.items:\n",
    "            res.append(item.run())\n",
    "        return res\n",
    "            \n",
    "     \n",
    "a2 = ProcessItems([OutlierDetector(), Forecastor()])\n",
    "res = a2.process()\n",
    "\n",
    "    \n",
    "a3 = OutlierDetector()\n",
    "a3._items"
   ]
  },
  {
   "cell_type": "code",
   "execution_count": 32,
   "id": "c173e3e2",
   "metadata": {},
   "outputs": [
    {
     "name": "stdout",
     "output_type": "stream",
     "text": [
      "()\n",
      "()\n",
      "torch.Size([8, 32, 16])\n",
      "torch.Size([8, 32, 16])\n"
     ]
    }
   ],
   "source": [
    "from abc import ABC, abstractmethod\n",
    "from typing import List, Tuple, Union, Dict\n",
    "import torch\n",
    "import pdb\n",
    "\n",
    "\n",
    "# Base class for creating ts analytic items\n",
    "class ItemBase(ABC):\n",
    "    @abstractmethod\n",
    "    def run(self, *args):\n",
    "        pass\n",
    "    \n",
    "\n",
    "# Derivated class for outlier detection\n",
    "class OutlierDetector(ItemBase):\n",
    "    def __init__(self, *args):\n",
    "        print(args)\n",
    "        \n",
    "    def run(self, *args):\n",
    "        batch, = args\n",
    "        print(batch.shape)\n",
    "        \n",
    "\n",
    "# Derivated class for forecasting time series\n",
    "class Forecastor(ItemBase):\n",
    "    def __init__(self, *args):\n",
    "        print(args)\n",
    "        \n",
    "    def run(self, *args):\n",
    "        batch, = args\n",
    "        print(batch.shape)\n",
    "\n",
    "        \n",
    "# Collect multiple items and process them at once\n",
    "class ProcessItems(object):\n",
    "    def __init__(self, items: List = [])->None:\n",
    "        self.items = items\n",
    "        \n",
    "    def process(self, ins: torch.Tensor)->List:\n",
    "        return [item.run(ins) for item in self.items]\n",
    "            \n",
    "        \n",
    "     \n",
    "a2 = ProcessItems([OutlierDetector(), Forecastor()])\n",
    "res = a2.process(torch.rand(8,32,16))"
   ]
  },
  {
   "cell_type": "code",
   "execution_count": 31,
   "id": "132fd1a8",
   "metadata": {},
   "outputs": [
    {
     "data": {
      "text/plain": [
       "[{}, []]"
      ]
     },
     "execution_count": 31,
     "metadata": {},
     "output_type": "execute_result"
    }
   ],
   "source": [
    "a3 = [dict(), list()]\n",
    "a3"
   ]
  },
  {
   "cell_type": "code",
   "execution_count": null,
   "id": "589c2023",
   "metadata": {},
   "outputs": [],
   "source": []
  }
 ],
 "metadata": {
  "kernelspec": {
   "display_name": "Python 3 (ipykernel)",
   "language": "python",
   "name": "python3"
  },
  "language_info": {
   "codemirror_mode": {
    "name": "ipython",
    "version": 3
   },
   "file_extension": ".py",
   "mimetype": "text/x-python",
   "name": "python",
   "nbconvert_exporter": "python",
   "pygments_lexer": "ipython3",
   "version": "3.8.12"
  }
 },
 "nbformat": 4,
 "nbformat_minor": 5
}
